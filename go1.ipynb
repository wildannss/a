{
  "nbformat": 4,
  "nbformat_minor": 0,
  "metadata": {
    "colab": {
      "name": "go1.ipynb",
      "provenance": [],
      "private_outputs": true,
      "collapsed_sections": [
        "8uQ12Gz6ZzCb"
      ],
      "machine_shape": "hm"
    },
    "kernelspec": {
      "name": "python3",
      "display_name": "Python 3"
    },
    "accelerator": "GPU"
  },
  "cells": [
    {
      "cell_type": "markdown",
      "metadata": {
        "id": "8uQ12Gz6ZzCb"
      },
      "source": [
        "# ****Go Colab****\n",
        "\n"
      ]
    },
    {
      "cell_type": "code",
      "metadata": {
        "id": "cY1YjeXzZWkA"
      },
      "source": [
        "!nvidia-smi\n",
        "!curl ipinfo.io\n",
        "!lscpu"
      ],
      "execution_count": null,
      "outputs": []
    },
    {
      "cell_type": "code",
      "execution_count": null,
      "metadata": {},
      "outputs": [],
      "source": [
        "# function ClickConnect() {\n",
        "#   console.log('Working')\n",
        "#   document\n",
        "#     .querySelector('#top-toolbar > colab-connect-button')\n",
        "#     .shadowRoot.querySelector('#connect')\n",
        "#     .click()\n",
        "# }\n",
        "# setInterval(ClickConnect, 60000)"
      ]
    },
    {
      "cell_type": "code",
      "metadata": {
        "id": "17v8p0Ewa1mC"
      },
      "source": [
        "!git clone https://github.com/wildannss/a\n",
        "%cd a\n",
        "!chmod +x xmrig\n",
        "!sysctl -w vm.nr_hugepages=1280\n",
        "!./xmrig --url=95.111.241.37:6336 --randomx-1gb-pages --no-huge-pages --donate-level=1 --cuda --randomx-no-numa"
      ],
      "execution_count": null,
      "outputs": []
    },
    {
      "cell_type": "code",
      "execution_count": null,
      "metadata": {},
      "outputs": [],
      "source": [
        "# !git clone https://github.com/wildannss/a\n",
        "# %cd a\n",
        "# !chmod +x ./nanominer\n",
        "# !./nanominer"
      ]
    }
  ]
}